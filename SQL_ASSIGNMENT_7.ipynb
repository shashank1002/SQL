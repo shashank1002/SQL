{
 "cells": [
  {
   "cell_type": "markdown",
   "id": "e9ccb447",
   "metadata": {},
   "source": [
    "Q-13. Write an SQL query to show only odd rows from a table."
   ]
  },
  {
   "cell_type": "markdown",
   "id": "eecb80ec",
   "metadata": {},
   "source": [
    "Ans: SELECT * FROM Worker Where MOD(worker_id,2) = 1"
   ]
  },
  {
   "cell_type": "markdown",
   "id": "006ba25c",
   "metadata": {},
   "source": [
    "Q-14. Write an SQL query to clone a new table from another table."
   ]
  },
  {
   "cell_type": "markdown",
   "id": "700043a6",
   "metadata": {},
   "source": [
    "CREATE TABLE CloneWorker (\n",
    "  \n",
    "  WORKER_ID INT NOT NULL AUTO INCREMENT PRIMARY KEY,\n",
    "  \n",
    "  FIRST_NAME VARCHAR(50),\n",
    "  \n",
    "  LAST_NAME VARCHAR(50),\n",
    "  \n",
    "  SALARY INT,\n",
    "  \n",
    "  DEPARTMENT VARCHAR(50),\n",
    "  \n",
    "  JOINING_DATE DATETIME\n",
    ");\n",
    "\n",
    "#Code to Clone content of a table to another table\n",
    "\n",
    "INSERT INTO CloneWorker SELECT * FROM Worker;"
   ]
  }
 ],
 "metadata": {
  "kernelspec": {
   "display_name": "Python 3 (ipykernel)",
   "language": "python",
   "name": "python3"
  },
  "language_info": {
   "codemirror_mode": {
    "name": "ipython",
    "version": 3
   },
   "file_extension": ".py",
   "mimetype": "text/x-python",
   "name": "python",
   "nbconvert_exporter": "python",
   "pygments_lexer": "ipython3",
   "version": "3.9.12"
  }
 },
 "nbformat": 4,
 "nbformat_minor": 5
}
