{
 "cells": [
  {
   "cell_type": "markdown",
   "id": "42ca5b39",
   "metadata": {},
   "source": [
    "Q-1. Write an SQL query to print the FIRST_NAME from Worker table after replacing ‘a’\n",
    "with ‘A’."
   ]
  },
  {
   "cell_type": "markdown",
   "id": "d0718e15",
   "metadata": {},
   "source": [
    "SELECT REPLACE(FIRST_NAME,'a','A') FROM Wokrer;"
   ]
  },
  {
   "cell_type": "markdown",
   "id": "f4390eac",
   "metadata": {},
   "source": [
    "Q-2. Write an SQL query to print all Worker details from the Worker table order by\n",
    "FIRST_NAME Ascending and DEPARTMENT Descending."
   ]
  },
  {
   "cell_type": "markdown",
   "id": "70137e2f",
   "metadata": {},
   "source": [
    "Ans: SELECT * FROM Worker ORDER BY FIRST_NAME ASC, LAST_NAME DESC;"
   ]
  },
  {
   "cell_type": "markdown",
   "id": "096d66e3",
   "metadata": {},
   "source": [
    "Q-3. Write an SQL query to fetch the names of workers who earn the highest salary."
   ]
  },
  {
   "cell_type": "markdown",
   "id": "377863f2",
   "metadata": {},
   "source": [
    "Ans: SELECT FIRST_NAME, LAST_NAME FROM Worker WHERE SALARY = (SELECT MAX(SALARY) FROM Worker);"
   ]
  }
 ],
 "metadata": {
  "kernelspec": {
   "display_name": "Python 3 (ipykernel)",
   "language": "python",
   "name": "python3"
  },
  "language_info": {
   "codemirror_mode": {
    "name": "ipython",
    "version": 3
   },
   "file_extension": ".py",
   "mimetype": "text/x-python",
   "name": "python",
   "nbconvert_exporter": "python",
   "pygments_lexer": "ipython3",
   "version": "3.9.12"
  }
 },
 "nbformat": 4,
 "nbformat_minor": 5
}
