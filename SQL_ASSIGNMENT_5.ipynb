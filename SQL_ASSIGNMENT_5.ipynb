{
 "cells": [
  {
   "cell_type": "markdown",
   "id": "000866bb",
   "metadata": {},
   "source": [
    "Q-1. Write an SQL query to print details of workers excluding first names, “Vipul” and\n",
    "“Satish” from Worker table."
   ]
  },
  {
   "cell_type": "markdown",
   "id": "4457cfd5",
   "metadata": {},
   "source": [
    "Ans: SELECT * FROM Worker WHERE FIRST_NAME NOT IN ('Vipul','Satish');"
   ]
  },
  {
   "cell_type": "markdown",
   "id": "bc8099c8",
   "metadata": {},
   "source": [
    "Q-2. Write an SQL query to print details of the Workers whose FIRST_NAME ends with\n",
    "‘h’ and contains six alphabets."
   ]
  },
  {
   "cell_type": "markdown",
   "id": "545be4ab",
   "metadata": {},
   "source": [
    "Ans: SELECT * FROM Worker WHERE FIRST_NAME LIKE '______h';"
   ]
  },
  {
   "cell_type": "markdown",
   "id": "cc376b20",
   "metadata": {},
   "source": [
    "Q-3. Write a query to validate Email of Employee."
   ]
  },
  {
   "cell_type": "markdown",
   "id": "15b1c7ad",
   "metadata": {},
   "source": [
    "Ans: SELECT * FROM Worker WHERE email LIKE \"_%@_%._%\""
   ]
  }
 ],
 "metadata": {
  "kernelspec": {
   "display_name": "Python 3 (ipykernel)",
   "language": "python",
   "name": "python3"
  },
  "language_info": {
   "codemirror_mode": {
    "name": "ipython",
    "version": 3
   },
   "file_extension": ".py",
   "mimetype": "text/x-python",
   "name": "python",
   "nbconvert_exporter": "python",
   "pygments_lexer": "ipython3",
   "version": "3.9.12"
  }
 },
 "nbformat": 4,
 "nbformat_minor": 5
}
