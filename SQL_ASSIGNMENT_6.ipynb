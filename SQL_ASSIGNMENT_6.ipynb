{
 "cells": [
  {
   "cell_type": "markdown",
   "id": "f5b9847f",
   "metadata": {},
   "source": [
    "Q-1. Write an SQL query to print details of the Workers who have joined in Feb’2014."
   ]
  },
  {
   "cell_type": "markdown",
   "id": "12db6b12",
   "metadata": {},
   "source": [
    "SELECT * FROM Worker WHERE YEAR(JOINING_DATE) = 2014 AND MONTH(JOINING_DATE) = 02;"
   ]
  },
  {
   "cell_type": "markdown",
   "id": "16d9bf39",
   "metadata": {},
   "source": [
    "Q-2. Write an SQL query to fetch duplicate records having matching data in some fields of\n",
    "a table."
   ]
  },
  {
   "cell_type": "markdown",
   "id": "f536af85",
   "metadata": {},
   "source": [
    "Ans: SELECT column_name, COUNT(column_name) FROM Worker GROUP BY FEILD HAVING COUNT(column_name) > 1;"
   ]
  },
  {
   "cell_type": "markdown",
   "id": "9b229712",
   "metadata": {},
   "source": [
    "Q-3. How to remove duplicate rows from Employees table."
   ]
  },
  {
   "cell_type": "markdown",
   "id": "43a8acc6",
   "metadata": {},
   "source": [
    "ANS CREATE TABLE Employee (\n",
    "    \n",
    "    ID INT PRIMARY KEY AUTO_INCREMENT NOT NULL,\n",
    "    \n",
    "    FIRST_NAME VARCHAR(50),\n",
    "    \n",
    "    LAST_NAME VARCHAR(50),\n",
    "    \n",
    "    COUNTRY VARCHAR(50)\n",
    ");\n",
    "\n",
    "INSERT INTO Employee VALUES \n",
    "\n",
    "(1,'ADITYA','VARMA','INDIA'),\n",
    "\n",
    "(2,'ADITYA','VARMA','INDIA'),\n",
    "\n",
    "(3,'ADITYA','VARMA','INDIA'),\n",
    "\n",
    "(4,'STEVE','JOBS','USA'),\n",
    "\n",
    "(5,'STEVE','JOBS','USA'),\n",
    "\n",
    "(6,'STEVE','JOBS','USA');\n",
    "\n",
    "DELETE e1.* from employee e1 INNER JOIN employee e2 WHERE e1.id > e2.id AND e1.FIRST_NAME = e2.FIRST_NAME AND e1.LAST_NAME = e2.LAST_NAME AND e1.COUNTRY = e2.COUNTRY"
   ]
  },
  {
   "cell_type": "code",
   "execution_count": null,
   "id": "6c4f9cc5",
   "metadata": {},
   "outputs": [],
   "source": []
  }
 ],
 "metadata": {
  "kernelspec": {
   "display_name": "Python 3 (ipykernel)",
   "language": "python",
   "name": "python3"
  },
  "language_info": {
   "codemirror_mode": {
    "name": "ipython",
    "version": 3
   },
   "file_extension": ".py",
   "mimetype": "text/x-python",
   "name": "python",
   "nbconvert_exporter": "python",
   "pygments_lexer": "ipython3",
   "version": "3.9.12"
  }
 },
 "nbformat": 4,
 "nbformat_minor": 5
}
