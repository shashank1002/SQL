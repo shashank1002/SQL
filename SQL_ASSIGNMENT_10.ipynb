{
 "cells": [
  {
   "cell_type": "markdown",
   "id": "1f46fa24",
   "metadata": {},
   "source": [
    "Q-19. Write an SQL query to determine the 5th highest salary without using TOP or limit\n",
    "method."
   ]
  },
  {
   "cell_type": "markdown",
   "id": "db94ead5",
   "metadata": {},
   "source": [
    "ANS SELECT * FROM (SELECT ROW_NUMBER() OVER (ORDER BY salary DESC) AS R_NUM, first_name, salary FROM employee) as HEllO WHERE R_NUM=5;"
   ]
  },
  {
   "cell_type": "markdown",
   "id": "de450357",
   "metadata": {},
   "source": [
    "Q-20. Write an SQL query to fetch the list of employees with the same salary."
   ]
  },
  {
   "cell_type": "markdown",
   "id": "807867e3",
   "metadata": {},
   "source": [
    "ANS CREATE TABLE employee (\n",
    "    \n",
    "    emp_id INT PRIMARY KEY AUTO_INCREMENT NOT NULL,\n",
    "    \n",
    "    first_name VARCHAR(50),\n",
    "    \n",
    "    last_name VARCHAR(50),\n",
    "    \n",
    "    salary INT\n",
    "\n",
    ");\n",
    "\n",
    "INSERT INTO employee VALUES\n",
    "\n",
    "(1,'Luke','Skywalker',100),\n",
    "\n",
    "(2,'Anakin','Skywalker',200),\n",
    "\n",
    "(3,'Liea','Skywalker',50),\n",
    "\n",
    "(4,'Rey','Skywalker',150),\n",
    "\n",
    "(5,'Han','Solo',100),\n",
    "\n",
    "(6,'Darth','Vader',150);\n",
    "\n",
    "SELECT * FROM employee ORDER BY salary ASC;"
   ]
  }
 ],
 "metadata": {
  "kernelspec": {
   "display_name": "Python 3 (ipykernel)",
   "language": "python",
   "name": "python3"
  },
  "language_info": {
   "codemirror_mode": {
    "name": "ipython",
    "version": 3
   },
   "file_extension": ".py",
   "mimetype": "text/x-python",
   "name": "python",
   "nbconvert_exporter": "python",
   "pygments_lexer": "ipython3",
   "version": "3.9.12"
  }
 },
 "nbformat": 4,
 "nbformat_minor": 5
}
